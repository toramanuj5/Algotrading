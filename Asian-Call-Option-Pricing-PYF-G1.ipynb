{
 "cells": [
  {
   "cell_type": "code",
   "execution_count": 1,
   "id": "85b28683",
   "metadata": {},
   "outputs": [],
   "source": [
    "S = 100 #Initial Stock Price\n",
    "T = 1 #lets say T denotes the End Period when we we calculate the Payoff from the option\n",
    "r = 0.02 #it denotes the interest rate \n",
    "sigma = 0.4 #it denotes the volatility of the stock\n",
    "Nsimulations = 10000 # how many numbers we want to simulate\n",
    "Nsteps = 200 #it denotes the no of periods(like dayes or months) within T \n",
    "K = 105 #here it is the strike price"
   ]
  },
  {
   "cell_type": "code",
   "execution_count": 8,
   "id": "34dd1a14",
   "metadata": {},
   "outputs": [],
   "source": [
    "dt = T/Nsteps"
   ]
  },
  {
   "cell_type": "code",
   "execution_count": 9,
   "id": "96e47929",
   "metadata": {},
   "outputs": [],
   "source": [
    "drift = (r-0.5*(sigma**2))*dt #drift term"
   ]
  },
  {
   "cell_type": "code",
   "execution_count": 10,
   "id": "37b9e3b2",
   "metadata": {},
   "outputs": [],
   "source": [
    "import numpy as np\n",
    "a = sigma*np.sqrt(dt) #time component"
   ]
  },
  {
   "cell_type": "code",
   "execution_count": 11,
   "id": "3283138a",
   "metadata": {},
   "outputs": [
    {
     "data": {
      "text/plain": [
       "array([[ 1.33647837,  0.59091327, -0.60238471, ...,  0.60556629,\n",
       "        -1.4695292 ,  1.28137144],\n",
       "       [ 0.45204877, -0.27358544,  0.16412229, ..., -0.88244918,\n",
       "         0.76870614,  0.60809065],\n",
       "       [ 0.47661652,  1.33203827, -1.92777459, ...,  0.15402122,\n",
       "        -0.37047834, -1.25331533],\n",
       "       ...,\n",
       "       [-0.24697848, -2.20893713, -0.95534491, ..., -1.83788736,\n",
       "         0.74030361, -1.09322099],\n",
       "       [ 0.00507335, -0.90460705, -1.39850463, ...,  0.25858823,\n",
       "         0.30897309, -0.73623682],\n",
       "       [ 0.58402171,  0.24618228,  0.65992046, ...,  0.04690493,\n",
       "        -0.60161455,  0.11701465]])"
      ]
     },
     "execution_count": 11,
     "metadata": {},
     "output_type": "execute_result"
    }
   ],
   "source": [
    "x = np.random.normal(0,1,(Nsimulations,Nsteps)) #random variable , here we define this as matrix of Nsimulations*Nsteps\n",
    "x"
   ]
  },
  {
   "cell_type": "code",
   "execution_count": 12,
   "id": "b90d6d86",
   "metadata": {},
   "outputs": [
    {
     "data": {
      "text/plain": [
       "array([[0., 0., 0., ..., 0., 0., 0.],\n",
       "       [0., 0., 0., ..., 0., 0., 0.],\n",
       "       [0., 0., 0., ..., 0., 0., 0.],\n",
       "       ...,\n",
       "       [0., 0., 0., ..., 0., 0., 0.],\n",
       "       [0., 0., 0., ..., 0., 0., 0.],\n",
       "       [0., 0., 0., ..., 0., 0., 0.]])"
      ]
     },
     "execution_count": 12,
     "metadata": {},
     "output_type": "execute_result"
    }
   ],
   "source": [
    "Smat = np.zeros((Nsimulations,Nsteps)) #here we are denoting the matrix of stock price, we initialized the matrix with Zeros\n",
    "Smat"
   ]
  },
  {
   "cell_type": "markdown",
   "id": "980433c2",
   "metadata": {},
   "source": [
    "# Smat matrix -  the column defines the no of Steps , here Nsteps =4, and the row defines the no of Simulations, here Nsimulations = 5\n",
    "                          "
   ]
  },
  {
   "cell_type": "code",
   "execution_count": 13,
   "id": "cce3ee46",
   "metadata": {},
   "outputs": [
    {
     "data": {
      "text/plain": [
       "array([[100.,   0.,   0., ...,   0.,   0.,   0.],\n",
       "       [100.,   0.,   0., ...,   0.,   0.,   0.],\n",
       "       [100.,   0.,   0., ...,   0.,   0.,   0.],\n",
       "       ...,\n",
       "       [100.,   0.,   0., ...,   0.,   0.,   0.],\n",
       "       [100.,   0.,   0., ...,   0.,   0.,   0.],\n",
       "       [100.,   0.,   0., ...,   0.,   0.,   0.]])"
      ]
     },
     "execution_count": 13,
     "metadata": {},
     "output_type": "execute_result"
    }
   ],
   "source": [
    "Smat[:,0] = Smat[:,0] + S #at T= 0 we are saying that the stock price is 100. So our the 1st column of our Smat matrix should be 100\n",
    "Smat "
   ]
  },
  {
   "cell_type": "markdown",
   "id": "0cc0b6db",
   "metadata": {},
   "source": [
    "# In the 2nd time period , which is T=1 we have to use the Geometric Brownian Motion formula in order to get the different values for n number of  simulations , here we are taking Nsimulations = 10000"
   ]
  },
  {
   "cell_type": "code",
   "execution_count": 14,
   "id": "f7448f75",
   "metadata": {},
   "outputs": [
    {
     "data": {
      "text/plain": [
       "array([[100.        , 101.65489937,  99.90759659, ..., 130.99971572,\n",
       "        125.62868235, 130.2262403 ],\n",
       "       [100.        ,  99.19940548,  99.63107366, ...,  85.29836232,\n",
       "         87.14710459,  88.63235302],\n",
       "       [100.        , 103.80829884,  98.27014013, ..., 188.93687335,\n",
       "        186.91131369, 180.34742606],\n",
       "       ...,\n",
       "       [100.        ,  93.9151776 ,  91.38403344, ...,  40.61801648,\n",
       "         41.46504038,  40.19046236],\n",
       "       [100.        ,  97.44460227,  93.63725713, ...,  98.92488835,\n",
       "         99.76325583,  97.67796689],\n",
       "       [100.        , 100.66853341, 102.5344297 , ..., 127.25418966,\n",
       "        125.06959599, 125.44658172]])"
      ]
     },
     "execution_count": 14,
     "metadata": {},
     "output_type": "execute_result"
    }
   ],
   "source": [
    "for i in range(1,Nsteps):\n",
    "    Smat[:,i] = Smat[:,i] + Smat[:,i-1]*np.exp(drift + a*x[:,i])\n",
    "Smat"
   ]
  },
  {
   "cell_type": "markdown",
   "id": "a97793ed",
   "metadata": {},
   "source": [
    "# Here We can see at T=1 the 5 different values(the last column) of Stock, where few values are more than 100 and few are below 100"
   ]
  },
  {
   "cell_type": "markdown",
   "id": "c4c8970e",
   "metadata": {},
   "source": [
    "# Now we have to calculate the Call Payoff at time T = 1 means we have to take the last column value of Smat and check with the strike Price"
   ]
  },
  {
   "cell_type": "code",
   "execution_count": 15,
   "id": "7fd5a977",
   "metadata": {},
   "outputs": [],
   "source": [
    "q = Smat[:,-1]-K #here q denotes the call payoff"
   ]
  },
  {
   "cell_type": "markdown",
   "id": "9ecf2211",
   "metadata": {},
   "source": [
    "# The payoff of Asian Call option is the maximum between average stock price "
   ]
  },
  {
   "cell_type": "code",
   "execution_count": 16,
   "id": "d30ec610",
   "metadata": {},
   "outputs": [],
   "source": [
    "asian_q = np.mean(Smat,axis=1) - K"
   ]
  },
  {
   "cell_type": "markdown",
   "id": "caae31e7",
   "metadata": {},
   "source": [
    "# The Call payoffs are mentioned below"
   ]
  },
  {
   "cell_type": "code",
   "execution_count": 17,
   "id": "c5bc613b",
   "metadata": {},
   "outputs": [
    {
     "data": {
      "text/plain": [
       "array([ 25.2262403 , -16.36764698,  75.34742606, ..., -64.80953764,\n",
       "        -7.32203311,  20.44658172])"
      ]
     },
     "execution_count": 17,
     "metadata": {},
     "output_type": "execute_result"
    }
   ],
   "source": [
    "q"
   ]
  },
  {
   "cell_type": "markdown",
   "id": "2f4b8ef5",
   "metadata": {},
   "source": [
    "# The Asian Call payoffs are mentioned below"
   ]
  },
  {
   "cell_type": "code",
   "execution_count": 18,
   "id": "b9223b21",
   "metadata": {},
   "outputs": [
    {
     "data": {
      "text/plain": [
       "array([  3.50017617,   1.78911621,  35.1085554 , ..., -27.91966592,\n",
       "         4.32938143,  19.28032074])"
      ]
     },
     "execution_count": 18,
     "metadata": {},
     "output_type": "execute_result"
    }
   ],
   "source": [
    "asian_q"
   ]
  },
  {
   "cell_type": "markdown",
   "id": "928967cf",
   "metadata": {},
   "source": [
    "# Now for call Pricing, Call payoff per share = (MAX (stock price - strike price, 0) - premium per share) "
   ]
  },
  {
   "cell_type": "code",
   "execution_count": 19,
   "id": "b9f1eeaf",
   "metadata": {},
   "outputs": [],
   "source": [
    "for i in range (len(q)):\n",
    "    if q[i]<0 :\n",
    "        q[i]=0\n",
    "    else :\n",
    "        q[i] = q[i]"
   ]
  },
  {
   "cell_type": "markdown",
   "id": "6ad2305d",
   "metadata": {},
   "source": [
    "# Now lets check the call Payoff which is denoted by q here"
   ]
  },
  {
   "cell_type": "code",
   "execution_count": 20,
   "id": "42efd2ad",
   "metadata": {},
   "outputs": [
    {
     "data": {
      "text/plain": [
       "array([25.2262403 ,  0.        , 75.34742606, ...,  0.        ,\n",
       "        0.        , 20.44658172])"
      ]
     },
     "execution_count": 20,
     "metadata": {},
     "output_type": "execute_result"
    }
   ],
   "source": [
    "q"
   ]
  },
  {
   "cell_type": "markdown",
   "id": "9474ab14",
   "metadata": {},
   "source": [
    "# Lets do it for Asian call"
   ]
  },
  {
   "cell_type": "code",
   "execution_count": 21,
   "id": "c39370c0",
   "metadata": {},
   "outputs": [
    {
     "data": {
      "text/plain": [
       "array([ 3.50017617,  1.78911621, 35.1085554 , ...,  0.        ,\n",
       "        4.32938143, 19.28032074])"
      ]
     },
     "execution_count": 21,
     "metadata": {},
     "output_type": "execute_result"
    }
   ],
   "source": [
    "for i in range (len(asian_q)):\n",
    "    if asian_q[i]<0 :\n",
    "        asian_q[i]=0\n",
    "    else :\n",
    "        asian_q[i] = asian_q[i]\n",
    "asian_q"
   ]
  },
  {
   "cell_type": "markdown",
   "id": "2a449ed9",
   "metadata": {},
   "source": [
    "# For Put Pricing, Put payoff per share = (MAX (strike price - stock price, 0) - premium per share)"
   ]
  },
  {
   "cell_type": "code",
   "execution_count": 22,
   "id": "f6201e07",
   "metadata": {},
   "outputs": [],
   "source": [
    "p = K - Smat[:,-1] #here q denotes the put payoff\n",
    "for i in range (len(p)):\n",
    "    if p[i]<0 :\n",
    "        p[i]=0\n",
    "    else :\n",
    "        p[i] = p[i]"
   ]
  },
  {
   "cell_type": "markdown",
   "id": "9ee535b9",
   "metadata": {},
   "source": [
    "# Now lets check the put Payoff which is denoted by p here"
   ]
  },
  {
   "cell_type": "code",
   "execution_count": 23,
   "id": "25023135",
   "metadata": {},
   "outputs": [
    {
     "data": {
      "text/plain": [
       "array([ 0.        , 16.36764698,  0.        , ..., 64.80953764,\n",
       "        7.32203311,  0.        ])"
      ]
     },
     "execution_count": 23,
     "metadata": {},
     "output_type": "execute_result"
    }
   ],
   "source": [
    "p"
   ]
  },
  {
   "cell_type": "markdown",
   "id": "878352d1",
   "metadata": {},
   "source": [
    "# Payoff of Call and Put will be the respective mean() of Call(here q) and               Put(here P)"
   ]
  },
  {
   "cell_type": "code",
   "execution_count": 24,
   "id": "b8692c18",
   "metadata": {},
   "outputs": [],
   "source": [
    "payoff_call = np.mean(q)\n",
    "payoff_put = np.mean(p)"
   ]
  },
  {
   "cell_type": "code",
   "execution_count": 25,
   "id": "607197c2",
   "metadata": {},
   "outputs": [
    {
     "data": {
      "text/plain": [
       "14.828388095187012"
      ]
     },
     "execution_count": 25,
     "metadata": {},
     "output_type": "execute_result"
    }
   ],
   "source": [
    "payoff_call"
   ]
  },
  {
   "cell_type": "code",
   "execution_count": 26,
   "id": "e263bae2",
   "metadata": {},
   "outputs": [
    {
     "data": {
      "text/plain": [
       "17.817565776749948"
      ]
     },
     "execution_count": 26,
     "metadata": {},
     "output_type": "execute_result"
    }
   ],
   "source": [
    "payoff_put"
   ]
  },
  {
   "cell_type": "markdown",
   "id": "3889653c",
   "metadata": {},
   "source": [
    "# Lets calculate payoff for Asian Call"
   ]
  },
  {
   "cell_type": "code",
   "execution_count": 27,
   "id": "a1395c16",
   "metadata": {},
   "outputs": [
    {
     "data": {
      "text/plain": [
       "7.5700400355669615"
      ]
     },
     "execution_count": 27,
     "metadata": {},
     "output_type": "execute_result"
    }
   ],
   "source": [
    "payoff_asiancall = np.mean(asian_q)\n",
    "payoff_asiancall"
   ]
  },
  {
   "cell_type": "markdown",
   "id": "0cd92116",
   "metadata": {},
   "source": [
    "# Now we have to calculate the call price and Put price at time time = 0. Hence we have to discount the Call and Put payoffs respectively"
   ]
  },
  {
   "cell_type": "code",
   "execution_count": 28,
   "id": "32cf40d5",
   "metadata": {},
   "outputs": [],
   "source": [
    "call= payoff_call*np.exp(-r*T)\n",
    "put = payoff_put*np.exp(-r*T)"
   ]
  },
  {
   "cell_type": "code",
   "execution_count": 29,
   "id": "3930109a",
   "metadata": {},
   "outputs": [
    {
     "data": {
      "text/plain": [
       "14.534766338179994"
      ]
     },
     "execution_count": 29,
     "metadata": {},
     "output_type": "execute_result"
    }
   ],
   "source": [
    "call"
   ]
  },
  {
   "cell_type": "code",
   "execution_count": 30,
   "id": "949c1f8a",
   "metadata": {},
   "outputs": [
    {
     "data": {
      "text/plain": [
       "17.464754335926145"
      ]
     },
     "execution_count": 30,
     "metadata": {},
     "output_type": "execute_result"
    }
   ],
   "source": [
    "put"
   ]
  },
  {
   "cell_type": "markdown",
   "id": "8106acca",
   "metadata": {},
   "source": [
    "# Let's calcuallate the Asian Call price"
   ]
  },
  {
   "cell_type": "code",
   "execution_count": 32,
   "id": "94723364",
   "metadata": {},
   "outputs": [
    {
     "data": {
      "text/plain": [
       "7.420143199741758"
      ]
     },
     "execution_count": 32,
     "metadata": {},
     "output_type": "execute_result"
    }
   ],
   "source": [
    "asian_call_price = payoff_asiancall*np.exp(-r*T)\n",
    "asian_call_price"
   ]
  },
  {
   "cell_type": "markdown",
   "id": "3cc75406",
   "metadata": {},
   "source": [
    "# Here the values of Call and put , we get by doing only 5 simulations. We need to do this for 10000 simulations - S = 100, 𝑟𝑓 = 0.02, 𝜎 = 0.4, 𝑇 = 1 𝑦𝑒𝑎𝑟, 𝑀 = 200"
   ]
  },
  {
   "cell_type": "code",
   "execution_count": null,
   "id": "67697c03",
   "metadata": {},
   "outputs": [],
   "source": []
  }
 ],
 "metadata": {
  "kernelspec": {
   "display_name": "Python 3",
   "language": "python",
   "name": "python3"
  },
  "language_info": {
   "codemirror_mode": {
    "name": "ipython",
    "version": 3
   },
   "file_extension": ".py",
   "mimetype": "text/x-python",
   "name": "python",
   "nbconvert_exporter": "python",
   "pygments_lexer": "ipython3",
   "version": "3.8.8"
  }
 },
 "nbformat": 4,
 "nbformat_minor": 5
}
